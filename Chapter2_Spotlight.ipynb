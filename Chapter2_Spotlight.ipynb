{
 "cells": [
  {
   "cell_type": "code",
   "execution_count": 2,
   "metadata": {},
   "outputs": [
    {
     "name": "stdin",
     "output_type": "stream",
     "text": [
      "Enter the item's original price:  20\n"
     ]
    },
    {
     "name": "stdout",
     "output_type": "stream",
     "text": [
      "The sale price is 16.0\n"
     ]
    }
   ],
   "source": [
    "#This program gets an item's original price and calculates its sale prices with a 20% discount.\n",
    "\n",
    "#Get the item's original price.\n",
    "original_price = float(input(\"Enter the item's original price: \"))\n",
    "\n",
    "#Calculate the amount of the discount.\n",
    "discount = original_price * 0.2\n",
    "\n",
    "#Calcuate the sale price.\n",
    "sale_price = original_price - discount\n",
    "\n",
    "#Display the sale price.\n",
    "print('The sale price is', sale_price)"
   ]
  }
 ],
 "metadata": {
  "kernelspec": {
   "display_name": "Python 3",
   "language": "python",
   "name": "python3"
  },
  "language_info": {
   "codemirror_mode": {
    "name": "ipython",
    "version": 3
   },
   "file_extension": ".py",
   "mimetype": "text/x-python",
   "name": "python",
   "nbconvert_exporter": "python",
   "pygments_lexer": "ipython3",
   "version": "3.7.1"
  }
 },
 "nbformat": 4,
 "nbformat_minor": 2
}
